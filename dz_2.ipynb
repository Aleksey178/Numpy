{
 "cells": [
  {
   "cell_type": "code",
   "execution_count": 3,
   "id": "c9da8b8b",
   "metadata": {},
   "outputs": [],
   "source": [
    "import numpy as np\n",
    "import pandas as pd\n",
    "import matplotlib.pyplot as plt\n",
    "%matplotlib inline"
   ]
  },
  {
   "cell_type": "code",
   "execution_count": 5,
   "id": "af064951",
   "metadata": {},
   "outputs": [],
   "source": [
    "# задание 1\n",
    "# Создайте список под названием x и y"
   ]
  },
  {
   "cell_type": "code",
   "execution_count": 6,
   "id": "f9ceed8b",
   "metadata": {},
   "outputs": [],
   "source": [
    "x = [1, 2, 3, 4, 5, 6, 7]\n",
    "y = [3.5, 3.8, 4.2, 4.5, 5, 5.5, 7]"
   ]
  },
  {
   "cell_type": "code",
   "execution_count": null,
   "id": "972c8a51",
   "metadata": {},
   "outputs": [],
   "source": [
    "# С помощью функции plot постройте график, \n",
    "# соединяющий линиями точки с горизонтальными координатами из списка\n",
    "# x и вертикальными - из списка y."
   ]
  },
  {
   "cell_type": "code",
   "execution_count": 13,
   "id": "fdbf3d5e",
   "metadata": {},
   "outputs": [
    {
     "data": {
      "image/png": "[encoded data removed]",
      "text/plain": [
       "<Figure size 432x288 with 1 Axes>"
      ]
     },
     "metadata": {
      "needs_background": "light"
     },
     "output_type": "display_data"
    }
   ],
   "source": [
    "plt.plot(x, y)\n",
    "plt.show()"
   ]
  },
  {
   "cell_type": "code",
   "execution_count": 12,
   "id": "c93514f3",
   "metadata": {},
   "outputs": [],
   "source": [
    "# Затем в следующей ячейке постройте диаграмму рассеяния \n",
    "# (другие названия - диаграмма разброса, scatter plot)"
   ]
  },
  {
   "cell_type": "code",
   "execution_count": 14,
   "id": "bcce5aae",
   "metadata": {},
   "outputs": [
    {
     "data": {
      "image/png": "[encoded data removed]",
      "text/plain": [
       "<Figure size 432x288 with 1 Axes>"
      ]
     },
     "metadata": {
      "needs_background": "light"
     },
     "output_type": "display_data"
    }
   ],
   "source": [
    "plt.scatter(x, y)\n",
    "plt.show()"
   ]
  },
  {
   "cell_type": "code",
   "execution_count": null,
   "id": "e192c154",
   "metadata": {},
   "outputs": [],
   "source": [
    "# Задание 2\n",
    "# С помощью функции linspace из библиотеки Numpy создайте массив t \n",
    "# из 51 числа от 0 до 10 включительно."
   ]
  },
  {
   "cell_type": "code",
   "execution_count": 17,
   "id": "2ee343f4",
   "metadata": {},
   "outputs": [
    {
     "data": {
      "text/plain": [
       "array([ 0.        ,  0.20408163,  0.40816327,  0.6122449 ,  0.81632653,\n",
       "        1.02040816,  1.2244898 ,  1.42857143,  1.63265306,  1.83673469,\n",
       "        2.04081633,  2.24489796,  2.44897959,  2.65306122,  2.85714286,\n",
       "        3.06122449,  3.26530612,  3.46938776,  3.67346939,  3.87755102,\n",
       "        4.08163265,  4.28571429,  4.48979592,  4.69387755,  4.89795918,\n",
       "        5.10204082,  5.30612245,  5.51020408,  5.71428571,  5.91836735,\n",
       "        6.12244898,  6.32653061,  6.53061224,  6.73469388,  6.93877551,\n",
       "        7.14285714,  7.34693878,  7.55102041,  7.75510204,  7.95918367,\n",
       "        8.16326531,  8.36734694,  8.57142857,  8.7755102 ,  8.97959184,\n",
       "        9.18367347,  9.3877551 ,  9.59183673,  9.79591837, 10.        ])"
      ]
     },
     "execution_count": 17,
     "metadata": {},
     "output_type": "execute_result"
    }
   ],
   "source": [
    "t = np.linspace(0, 10, num = 50)\n",
    "t"
   ]
  },
  {
   "cell_type": "code",
   "execution_count": null,
   "id": "28d34020",
   "metadata": {},
   "outputs": [],
   "source": [
    "# Создайте массив Numpy под названием f, \n",
    "# содержащий косинусы элементов массива t"
   ]
  },
  {
   "cell_type": "code",
   "execution_count": 18,
   "id": "c8a61e20",
   "metadata": {},
   "outputs": [
    {
     "data": {
      "text/plain": [
       "array([ 1.        ,  0.97924752,  0.91785141,  0.81835992,  0.68490244,\n",
       "        0.52301811,  0.33942593,  0.1417459 , -0.0618173 , -0.26281476,\n",
       "       -0.45290412, -0.6241957 , -0.76958007, -0.88302305, -0.9598162 ,\n",
       "       -0.99677222, -0.99235724, -0.94675453, -0.8618568 , -0.74118774,\n",
       "       -0.58975572, -0.41384591, -0.22075945, -0.01851037,  0.18450698,\n",
       "        0.37986637,  0.55945943,  0.71583215,  0.84249428,  0.93418872,\n",
       "        0.98710971,  0.99906074,  0.9695458 ,  0.8997899 ,  0.79268826,\n",
       "        0.65268613,  0.48559429,  0.29834787,  0.09871854, -0.10500809,\n",
       "       -0.30437638, -0.49111153, -0.65746312, -0.79652673, -0.90253053,\n",
       "       -0.97107484, -0.99931473, -0.98607811, -0.93191435, -0.83907153])"
      ]
     },
     "execution_count": 18,
     "metadata": {},
     "output_type": "execute_result"
    }
   ],
   "source": [
    "f = np.cos(t)\n",
    "f"
   ]
  },
  {
   "cell_type": "code",
   "execution_count": 19,
   "id": "aa093ab3",
   "metadata": {},
   "outputs": [],
   "source": [
    "# Постройте линейную диаграмму, массив t для координат по горизонтали\n",
    "# ,а массив f - для координат по вертикали. \n",
    "# Линия графика должна быть зеленого цвета.\n",
    "\n",
    "# Выведите название диаграммы - 'График f(t)'. \n",
    "# Также добавьте названия для горизонтальной оси - 'Значения t' \n",
    "# и для вертикальной - 'Значения f'.\n",
    "\n",
    "# Ограничьте график по оси x значениями 0.5 и 9.5, \n",
    "# а по оси y - значениями -2.5 и 2.5."
   ]
  },
  {
   "cell_type": "code",
   "execution_count": 37,
   "id": "c6a9dc6d",
   "metadata": {},
   "outputs": [
    {
     "data": {
      "image/png": "[encoded data removed]",
      "text/plain": [
       "<Figure size 432x288 with 1 Axes>"
      ]
     },
     "metadata": {
      "needs_background": "light"
     },
     "output_type": "display_data"
    }
   ],
   "source": [
    "plt.plot(t, f, color = 'green')\n",
    "plt.title('График f(t)')\n",
    "plt.xlim([0.5, 9.5])\n",
    "plt.ylim([-2.5, 2.5])\n",
    "plt.xlabel('Значения t')\n",
    "plt.ylabel('Значения f')\n",
    "plt.show()"
   ]
  },
  {
   "cell_type": "code",
   "execution_count": null,
   "id": "fe7df1f7",
   "metadata": {},
   "outputs": [],
   "source": []
  },
  {
   "cell_type": "code",
   "execution_count": null,
   "id": "e6cb6707",
   "metadata": {},
   "outputs": [],
   "source": []
  },
  {
   "cell_type": "code",
   "execution_count": null,
   "id": "8c5ecc5f",
   "metadata": {},
   "outputs": [],
   "source": []
  },
  {
   "cell_type": "code",
   "execution_count": null,
   "id": "9ba3047d",
   "metadata": {},
   "outputs": [],
   "source": []
  },
  {
   "cell_type": "code",
   "execution_count": null,
   "id": "3684194b",
   "metadata": {},
   "outputs": [],
   "source": []
  },
  {
   "cell_type": "code",
   "execution_count": null,
   "id": "06ab9272",
   "metadata": {},
   "outputs": [],
   "source": []
  },
  {
   "cell_type": "code",
   "execution_count": null,
   "id": "43bf77e6",
   "metadata": {},
   "outputs": [],
   "source": []
  },
  {
   "cell_type": "code",
   "execution_count": null,
   "id": "687810ce",
   "metadata": {},
   "outputs": [],
   "source": []
  },
  {
   "cell_type": "code",
   "execution_count": null,
   "id": "00a685a2",
   "metadata": {},
   "outputs": [],
   "source": []
  },
  {
   "cell_type": "code",
   "execution_count": null,
   "id": "b99f45b9",
   "metadata": {},
   "outputs": [],
   "source": []
  }
 ],
 "metadata": {
  "kernelspec": {
   "display_name": "Python 3 (ipykernel)",
   "language": "python",
   "name": "python3"
  },
  "language_info": {
   "codemirror_mode": {
    "name": "ipython",
    "version": 3
   },
   "file_extension": ".py",
   "mimetype": "text/x-python",
   "name": "python",
   "nbconvert_exporter": "python",
   "pygments_lexer": "ipython3",
   "version": "3.9.12"
  }
 },
 "nbformat": 4,
 "nbformat_minor": 5
}
